{
 "cells": [
  {
   "cell_type": "markdown",
   "metadata": {},
   "source": [
    "Main magnetic bearing parameters\n",
    "================================="
   ]
  },
  {
   "cell_type": "markdown",
   "metadata": {},
   "source": [
    "Axial Bearing\n",
    "-------------\n",
    "![error](files/axialBrgAreas.jpg)"
   ]
  },
  {
   "cell_type": "code",
   "execution_count": 1,
   "metadata": {
    "collapsed": false
   },
   "outputs": [
    {
     "data": {
      "image/png": "[encoded data removed]",
      "text/latex": [
       "$$F = \\frac{A B^{2}}{\\mu_{o}}$$"
      ],
      "text/plain": [
       "       2\n",
       "    A⋅B \n",
       "F = ────\n",
       "     μₒ "
      ]
     },
     "execution_count": 1,
     "metadata": {},
     "output_type": "execute_result"
    }
   ],
   "source": [
    "from sympy import *\n",
    "from sympy.physics import units as u\n",
    "init_printing()\n",
    "F,B,A,mu_o = symbols('F B A mu_o')\n",
    "eqn1 = Eq(F, B**2*A/mu_o)\n",
    "eqn1"
   ]
  },
  {
   "cell_type": "code",
   "execution_count": 2,
   "metadata": {
    "collapsed": false
   },
   "outputs": [
    {
     "data": {
      "image/png": "[encoded data removed]",
      "text/latex": [
       "$$B = \\frac{Ni \\mu_{o}}{g}$$"
      ],
      "text/plain": [
       "    Ni⋅μₒ\n",
       "B = ─────\n",
       "      g  "
      ]
     },
     "execution_count": 2,
     "metadata": {},
     "output_type": "execute_result"
    }
   ],
   "source": [
    "Ni, g = symbols('Ni g')\n",
    "eqn2 = Eq(B,mu_o*Ni/g)\n",
    "eqn2"
   ]
  },
  {
   "cell_type": "markdown",
   "metadata": {},
   "source": [
    "This is the flux density and force achievable in the axial beaing with the current copper area:"
   ]
  },
  {
   "cell_type": "code",
   "execution_count": 3,
   "metadata": {
    "collapsed": false
   },
   "outputs": [
    {
     "data": {
      "image/png": "[encoded data removed]",
      "text/latex": [
       "$$0.388590845151723$$"
      ],
      "text/plain": [
       "0.388590845151723"
      ]
     },
     "execution_count": 3,
     "metadata": {},
     "output_type": "execute_result"
    }
   ],
   "source": [
    "Ni_achievable = 53.6*u.millimeter**2*3*u.ampere/u.millimeter**2\n",
    "eqn2_1 = eqn2.subs(Ni,Ni_achievable)\n",
    "eqn2_1 = eqn2_1.subs(mu_o,u.magnetic_constant)\n",
    "eqn2_1 = eqn2_1.subs(g,2.0*260*u.micron)\n",
    "B_max = solve(eqn2_1,B)[0]\n",
    "B_max/u.tesla"
   ]
  },
  {
   "cell_type": "code",
   "execution_count": 4,
   "metadata": {
    "collapsed": false
   },
   "outputs": [
    {
     "data": {
      "image/png": "[encoded data removed]",
      "text/latex": [
       "$$F = \\frac{A B^{2}}{\\mu_{o}}$$"
      ],
      "text/plain": [
       "       2\n",
       "    A⋅B \n",
       "F = ────\n",
       "     μₒ "
      ]
     },
     "execution_count": 4,
     "metadata": {},
     "output_type": "execute_result"
    }
   ],
   "source": [
    "eqn1"
   ]
  },
  {
   "cell_type": "code",
   "execution_count": 5,
   "metadata": {
    "collapsed": false
   },
   "outputs": [
    {
     "data": {
      "image/png": "[encoded data removed]",
      "text/latex": [
       "$$\\frac{30.846161938523 kg}{s^{2}} m$$"
      ],
      "text/plain": [
       "30.846161938523⋅kg⋅m\n",
       "────────────────────\n",
       "          2         \n",
       "         s          "
      ]
     },
     "execution_count": 5,
     "metadata": {},
     "output_type": "execute_result"
    }
   ],
   "source": [
    "e = eqn1.subs(A,(128.1+128.6)*u.millimeter**2)\n",
    "e = e.subs(B,B_max)\n",
    "e = e.subs(mu_o,u.magnetic_constant)\n",
    "f_max = solve(e,F)[0]\n",
    "f_max"
   ]
  },
  {
   "cell_type": "markdown",
   "metadata": {},
   "source": [
    "Huston, we have a problem...  30.8 N is not enough..."
   ]
  },
  {
   "cell_type": "markdown",
   "metadata": {},
   "source": [
    "Radial Bearing\n",
    "--------------\n",
    "![error](files/radialBrgAreas.png \"critical areas of the radial bearing\")"
   ]
  },
  {
   "cell_type": "code",
   "execution_count": 6,
   "metadata": {
    "collapsed": false
   },
   "outputs": [
    {
     "data": {
      "image/png": "[encoded data removed]",
      "text/latex": [
       "$$9.43 \\cdot 10^{-5} m^{2.0}$$"
      ],
      "text/plain": [
       "         2.0\n",
       "9.43e-5⋅m   "
      ]
     },
     "execution_count": 6,
     "metadata": {},
     "output_type": "execute_result"
    }
   ],
   "source": [
    "a_copper_rad = 2*47.15*u.millimeters**2.0\n",
    "N(a_copper_rad)"
   ]
  },
  {
   "cell_type": "code",
   "execution_count": 7,
   "metadata": {
    "collapsed": false
   },
   "outputs": [
    {
     "data": {
      "image/png": "[encoded data removed]",
      "text/latex": [
       "$$282.9 A$$"
      ],
      "text/plain": [
       "282.9⋅A"
      ]
     },
     "execution_count": 7,
     "metadata": {},
     "output_type": "execute_result"
    }
   ],
   "source": [
    "Ni_rad = a_copper_rad * 3.0 * u.ampere / u.millimeter**2.0\n",
    "Ni_rad"
   ]
  },
  {
   "cell_type": "code",
   "execution_count": 8,
   "metadata": {
    "collapsed": false
   },
   "outputs": [
    {
     "data": {
      "image/png": "[encoded data removed]",
      "text/latex": [
       "$$B = \\frac{Ni \\mu_{o}}{g}$$"
      ],
      "text/plain": [
       "    Ni⋅μₒ\n",
       "B = ─────\n",
       "      g  "
      ]
     },
     "execution_count": 8,
     "metadata": {},
     "output_type": "execute_result"
    }
   ],
   "source": [
    "eqn2"
   ]
  },
  {
   "cell_type": "code",
   "execution_count": 9,
   "metadata": {
    "collapsed": false
   },
   "outputs": [
    {
     "data": {
      "image/png": "[encoded data removed]",
      "text/latex": [
       "$$0.683658893615811$$"
      ],
      "text/plain": [
       "0.683658893615811"
      ]
     },
     "execution_count": 9,
     "metadata": {},
     "output_type": "execute_result"
    }
   ],
   "source": [
    "eqn2_1 = eqn2.subs(Ni,Ni_rad)\n",
    "eqn2_1 = eqn2_1.subs(mu_o,u.magnetic_constant)\n",
    "eqn2_1 = eqn2_1.subs(g,2*260*u.microns)\n",
    "B_rad = solve(eqn2_1,B)[0]\n",
    "B_rad/u.tesla"
   ]
  },
  {
   "cell_type": "code",
   "execution_count": 10,
   "metadata": {
    "collapsed": false
   },
   "outputs": [
    {
     "data": {
      "image/png": "[encoded data removed]",
      "text/latex": [
       "$$F = \\frac{A B^{2}}{\\mu_{o}}$$"
      ],
      "text/plain": [
       "       2\n",
       "    A⋅B \n",
       "F = ────\n",
       "     μₒ "
      ]
     },
     "execution_count": 10,
     "metadata": {},
     "output_type": "execute_result"
    }
   ],
   "source": [
    "eqn1"
   ]
  },
  {
   "cell_type": "code",
   "execution_count": 11,
   "metadata": {
    "collapsed": false
   },
   "outputs": [
    {
     "data": {
      "image/png": "[encoded data removed]",
      "text/latex": [
       "$$26.779444754388$$"
      ],
      "text/plain": [
       "26.7794447543880"
      ]
     },
     "execution_count": 11,
     "metadata": {},
     "output_type": "execute_result"
    }
   ],
   "source": [
    "eqn1_1 = eqn1.subs(A,72*u.millimeter**2)\n",
    "eqn1_1 = eqn1_1.subs(B,B_rad)\n",
    "eqn1_1 = eqn1_1.subs(mu_o,u.magnetic_constant)\n",
    "F_rad = solve(eqn1_1,F)[0]\n",
    "F_rad/u.newton\n"
   ]
  },
  {
   "cell_type": "markdown",
   "metadata": {},
   "source": [
    "Huston... another problem  26.8 N is not enough!\n",
    "\n",
    "Also, you need to check for saturation here."
   ]
  },
  {
   "cell_type": "markdown",
   "metadata": {},
   "source": [
    "## Powder compaction"
   ]
  },
  {
   "cell_type": "code",
   "execution_count": 24,
   "metadata": {
    "collapsed": false
   },
   "outputs": [
    {
     "data": {
      "image/png": "[encoded data removed]",
      "text/latex": [
       "$$221.482547718806$$"
      ],
      "text/plain": [
       "221.482547718806"
      ]
     },
     "execution_count": 24,
     "metadata": {},
     "output_type": "execute_result"
    }
   ],
   "source": [
    "p_compact = 800e6*u.pascal\n",
    "a_part = N(pi)/4.0*(0.056*u.meter)**2\n",
    "f = p_compact * a_part / (u.pound *2000)\n",
    "f"
   ]
  },
  {
   "cell_type": "code",
   "execution_count": 19,
   "metadata": {
    "collapsed": false
   },
   "outputs": [
    {
     "data": {
      "image/png": "[encoded data removed]",
      "text/latex": [
       "$$1.97040691233152$$"
      ],
      "text/plain": [
       "1.97040691233152"
      ]
     },
     "execution_count": 19,
     "metadata": {},
     "output_type": "execute_result"
    }
   ],
   "source": [
    "f/1e6"
   ]
  },
  {
   "cell_type": "code",
   "execution_count": 23,
   "metadata": {
    "collapsed": false
   },
   "outputs": [
    {
     "data": {
      "image/png": "[encoded data removed]",
      "text/latex": [
       "$$\\frac{0.224808943099711 s^{2}}{kg m}$$"
      ],
      "text/plain": [
       "                   2\n",
       "0.224808943099711⋅s \n",
       "────────────────────\n",
       "        kg⋅m        "
      ]
     },
     "execution_count": 23,
     "metadata": {},
     "output_type": "execute_result"
    }
   ],
   "source": []
  },
  {
   "cell_type": "code",
   "execution_count": 25,
   "metadata": {
    "collapsed": false
   },
   "outputs": [
    {
     "data": {
      "image/png": "[encoded data removed]",
      "text/latex": [
       "$$20.6666666667$$"
      ],
      "text/plain": [
       "20.6666666667"
      ]
     },
     "execution_count": 25,
     "metadata": {},
     "output_type": "execute_result"
    }
   ],
   "source": [
    "31000.0/1500.0"
   ]
  },
  {
   "cell_type": "code",
   "execution_count": null,
   "metadata": {
    "collapsed": false
   },
   "outputs": [],
   "source": []
  }
 ],
 "metadata": {
  "kernelspec": {
   "display_name": "Python 2",
   "language": "python",
   "name": "python2"
  },
  "language_info": {
   "codemirror_mode": {
    "name": "ipython",
    "version": 2
   },
   "file_extension": ".py",
   "mimetype": "text/x-python",
   "name": "python",
   "nbconvert_exporter": "python",
   "pygments_lexer": "ipython2",
   "version": "2.7.6"
  }
 },
 "nbformat": 4,
 "nbformat_minor": 0
}
